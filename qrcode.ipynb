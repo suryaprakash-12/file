import qrcode
jls_extract_var = "h.h.png"
(qrcode.make("https://www.google.com")).save(jls_extract_var)
